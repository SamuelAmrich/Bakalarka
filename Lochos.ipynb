{
 "cells": [
  {
   "cell_type": "code",
   "execution_count": null,
   "id": "3cbec9e2",
   "metadata": {
    "ExecuteTime": {
     "end_time": "2023-03-31T03:36:54.826371Z",
     "start_time": "2023-03-31T03:36:54.815321Z"
    }
   },
   "outputs": [],
   "source": [
    "import glob\n",
    "import numpy as np\n",
    "import os"
   ]
  },
  {
   "cell_type": "code",
   "execution_count": null,
   "id": "a295ff48",
   "metadata": {
    "ExecuteTime": {
     "end_time": "2023-03-31T03:36:55.515697Z",
     "start_time": "2023-03-31T03:36:55.311041Z"
    }
   },
   "outputs": [],
   "source": [
    "real_types = []\n",
    "predicted_types = []\n",
    "\n",
    "for file_name in glob.glob(\"predicted_list.txt\"):\n",
    "    file = open(file_name, \"r\")\n",
    "    while True:\n",
    "        line = file.readline()\n",
    "        if len(line) == 0: break\n",
    "        parse = line.split(\"\\t\")\n",
    "        \n",
    "        parse[1] = parse[1].split()[0]\n",
    "        parse[0] = ''.join([i for i in parse[0] if not i.isdigit()])\n",
    "        parse[0] = parse[0].split(\".\")[0]\n",
    "        \n",
    "        predicted_types.append(parse[0])\n",
    "        real_types.append(parse[1])\n",
    "        \n",
    "        print(parse)"
   ]
  },
  {
   "cell_type": "code",
   "execution_count": null,
   "id": "65971f7b",
   "metadata": {
    "ExecuteTime": {
     "end_time": "2023-03-31T03:46:01.526081Z",
     "start_time": "2023-03-31T03:46:01.513043Z"
    }
   },
   "outputs": [],
   "source": [
    "real_types = np.array(real_types)\n",
    "predicted_types = np.array(predicted_types)"
   ]
  }
 ],
 "metadata": {
  "kernelspec": {
   "display_name": "Python 3 (ipykernel)",
   "language": "python",
   "name": "python3"
  },
  "language_info": {
   "codemirror_mode": {
    "name": "ipython",
    "version": 3
   },
   "file_extension": ".py",
   "mimetype": "text/x-python",
   "name": "python",
   "nbconvert_exporter": "python",
   "pygments_lexer": "ipython3",
   "version": "3.8.11"
  },
  "varInspector": {
   "cols": {
    "lenName": 16,
    "lenType": 16,
    "lenVar": 40
   },
   "kernels_config": {
    "python": {
     "delete_cmd_postfix": "",
     "delete_cmd_prefix": "del ",
     "library": "var_list.py",
     "varRefreshCmd": "print(var_dic_list())"
    },
    "r": {
     "delete_cmd_postfix": ") ",
     "delete_cmd_prefix": "rm(",
     "library": "var_list.r",
     "varRefreshCmd": "cat(var_dic_list()) "
    }
   },
   "types_to_exclude": [
    "module",
    "function",
    "builtin_function_or_method",
    "instance",
    "_Feature"
   ],
   "window_display": false
  }
 },
 "nbformat": 4,
 "nbformat_minor": 5
}
