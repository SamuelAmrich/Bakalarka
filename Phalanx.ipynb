{
 "cells": [
  {
   "cell_type": "code",
   "execution_count": null,
   "id": "ede4c556",
   "metadata": {
    "ExecuteTime": {
     "end_time": "2023-05-10T22:25:38.826443Z",
     "start_time": "2023-05-10T22:25:38.811341Z"
    }
   },
   "outputs": [],
   "source": [
    "from IPython.core.display import display, HTML\n",
    "\n",
    "display(HTML(\"<style>.container { width:98% !important; }</style>\"))"
   ]
  },
  {
   "cell_type": "code",
   "execution_count": null,
   "id": "4b424fc2",
   "metadata": {
    "ExecuteTime": {
     "end_time": "2023-05-10T22:25:58.647956Z",
     "start_time": "2023-05-10T22:25:38.914440Z"
    }
   },
   "outputs": [],
   "source": [
    "# Kniznice\n",
    "\n",
    "import numpy as np\n",
    "import skimage.transform\n",
    "import matplotlib.pyplot as plt\n",
    "from scipy import signal as sig\n",
    "import random as rnd\n",
    "import pandas as pd\n",
    "import os\n",
    "import glob, os\n",
    "import scipy.signal as signal\n",
    "\n",
    "from sklearn.linear_model import LogisticRegression\n",
    "from sklearn.linear_model import LinearRegression\n",
    "from sklearn.neighbors import KNeighborsRegressor\n",
    "from sklearn.tree import DecisionTreeClassifier\n",
    "from sklearn.ensemble import RandomForestClassifier, ExtraTreesClassifier, GradientBoostingClassifier\n",
    "from sklearn.svm import SVC\n",
    "from sklearn.model_selection import train_test_split\n",
    "from sklearn.metrics import mean_squared_error, r2_score, accuracy_score, confusion_matrix, adjusted_mutual_info_score\n",
    "import seaborn as sns\n",
    "from sklearn.preprocessing import MinMaxScaler\n",
    "\n",
    "import tensorflow as tf\n",
    "\n",
    "from tensorflow.keras.models import Sequential\n",
    "from tensorflow.keras.layers import Dense, Conv2D, Flatten, Dropout, MaxPooling2D\n",
    "from tensorflow.keras.preprocessing.image import ImageDataGenerator\n",
    "from sklearn import metrics\n",
    "\n",
    "# import keras\n",
    "\n",
    "import cv2"
   ]
  },
  {
   "cell_type": "markdown",
   "id": "b8dabf8c",
   "metadata": {},
   "source": [
    "# Priprava dat"
   ]
  },
  {
   "cell_type": "code",
   "execution_count": null,
   "id": "99881023",
   "metadata": {
    "ExecuteTime": {
     "end_time": "2023-05-10T22:25:58.725542Z",
     "start_time": "2023-05-10T22:25:58.715535Z"
    }
   },
   "outputs": [],
   "source": [
    "#Plotovanie\n",
    "def plotovanie(time, signal):\n",
    "    fig, axs = plt.subplots(figsize=(30, 10))\n",
    "    plt.plot(time, signal)\n",
    "    plt.show()\n",
    "\n",
    "\n",
    "# Spectrak\n",
    "def spektrak(signal):\n",
    "    fig, axs = plt.subplots(figsize=(30, 10))\n",
    "    axs.specgram(signal, NFFT=1024, noverlap=512)\n",
    "    plt.show()"
   ]
  },
  {
   "cell_type": "code",
   "execution_count": null,
   "id": "a388469c",
   "metadata": {
    "ExecuteTime": {
     "end_time": "2023-05-10T22:35:28.780162Z",
     "start_time": "2023-05-10T22:25:58.758517Z"
    }
   },
   "outputs": [],
   "source": [
    "def load_data(file_list):\n",
    "    data = np.zeros((len(file_list), 200000))\n",
    "    for i, file in enumerate(file_list):\n",
    "        data[i] = np.loadtxt(file)\n",
    "    return data\n",
    "\n",
    "breakdown_pulse_cg_list = glob.glob(\"breakdown_pulse_cg/*.txt\")\n",
    "breakdown_pulse_cg = load_data(breakdown_pulse_cg_list)\n",
    "print(\"breakdown_pulse_cg LOADED\")\n",
    "\n",
    "breakdown_pulse_ic_list = glob.glob(\"breakdown_pulse_ic/*.txt\")\n",
    "breakdown_pulse_ic = load_data(breakdown_pulse_ic_list)\n",
    "print(\"breakdown_pulse_ic LOADED\")\n",
    "\n",
    "ic_activity_list = glob.glob(\"ic_activity/*.txt\")\n",
    "ic_activity = load_data(ic_activity_list)\n",
    "print(\"ic_activity LOADED\")\n",
    "\n",
    "microsecond_pulse_list = glob.glob(\"microsecond_pulse/*.txt\")\n",
    "microsecond_pulse = load_data(microsecond_pulse_list)\n",
    "print(\"microsecond_pulse LOADED\")\n",
    "\n",
    "narrow_bipolar_event_list = glob.glob(\"narrow_bipolar_event/*.txt\")\n",
    "narrow_bipolar_event = load_data(narrow_bipolar_event_list)\n",
    "print(\"narrow_bipolar_event LOADED\")\n",
    "\n",
    "nothing_list = glob.glob(\"nothing/*__.txt\")\n",
    "nothing = load_data(nothing_list)\n",
    "print(\"nothing LOADED\")\n",
    "\n",
    "return_stroke_list = glob.glob(\"return_stroke/*.txt\")\n",
    "return_stroke = load_data(return_stroke_list)\n",
    "print(\"return_stroke LOADED\")\n"
   ]
  },
  {
   "cell_type": "markdown",
   "id": "c64ed811",
   "metadata": {},
   "source": [
    "# Priprava features"
   ]
  },
  {
   "cell_type": "code",
   "execution_count": null,
   "id": "f9436f99",
   "metadata": {
    "ExecuteTime": {
     "end_time": "2023-05-10T22:35:29.478056Z",
     "start_time": "2023-05-10T22:35:28.812797Z"
    }
   },
   "outputs": [],
   "source": [
    "data = {\n",
    "    \"signal\":\n",
    "    list(\n",
    "        np.concatenate([\n",
    "            breakdown_pulse_cg, breakdown_pulse_ic, ic_activity,\n",
    "            microsecond_pulse, narrow_bipolar_event, nothing, return_stroke\n",
    "        ])),\n",
    "    \"label\":\n",
    "    np.concatenate([\n",
    "        np.array([1 for _ in range(len(breakdown_pulse_cg))]),\n",
    "        np.array([2 for _ in range(len(breakdown_pulse_ic))]),\n",
    "        np.array([3 for _ in range(len(ic_activity))]),\n",
    "        np.array([4 for _ in range(len(microsecond_pulse))]),\n",
    "        np.array([5 for _ in range(len(narrow_bipolar_event))]),\n",
    "        np.array([6 for _ in range(len(nothing))]),\n",
    "        np.array([7 for _ in range(len(return_stroke))])\n",
    "    ])\n",
    "}\n",
    "data = pd.DataFrame(data)"
   ]
  },
  {
   "cell_type": "code",
   "execution_count": null,
   "id": "0de21cc1",
   "metadata": {
    "ExecuteTime": {
     "end_time": "2023-05-10T22:35:29.570375Z",
     "start_time": "2023-05-10T22:35:29.541604Z"
    }
   },
   "outputs": [],
   "source": [
    "size = len(data)\n",
    "data"
   ]
  },
  {
   "cell_type": "raw",
   "id": "f5c8c832",
   "metadata": {},
   "source": [
    "for j in range(32):\n",
    "    for i in range(77):\n",
    "        data.loc[\"value_\"+str(j)+\"_\"+str(i)] = np.nan"
   ]
  },
  {
   "cell_type": "code",
   "execution_count": null,
   "id": "304561c1",
   "metadata": {
    "ExecuteTime": {
     "end_time": "2023-05-10T22:35:37.828361Z",
     "start_time": "2023-05-10T22:35:29.634562Z"
    }
   },
   "outputs": [],
   "source": [
    "sos = signal.butter(5, 2000, 'hp', fs=200_000_000, output='sos', analog=False)\n",
    "for i in range(size):\n",
    "    data[\"signal\"].at[i] = (np.cumsum(signal.sosfilt(sos, data[\"signal\"][i])) / 2000)"
   ]
  },
  {
   "cell_type": "code",
   "execution_count": null,
   "id": "4f915c26",
   "metadata": {
    "ExecuteTime": {
     "end_time": "2023-05-10T22:35:37.921555Z",
     "start_time": "2023-05-10T22:35:37.907485Z"
    }
   },
   "outputs": [],
   "source": [
    "len(data[\"signal\"][0])"
   ]
  },
  {
   "cell_type": "code",
   "execution_count": null,
   "id": "c9d80104",
   "metadata": {
    "ExecuteTime": {
     "end_time": "2023-05-10T22:35:38.187596Z",
     "start_time": "2023-05-10T22:35:38.002270Z"
    }
   },
   "outputs": [],
   "source": [
    "temp = np.zeros(size)\n",
    "\n",
    "for i in range(size):\n",
    "    temp[i] = data[\"signal\"][i].max()\n",
    "\n",
    "data[\"max\"] = temp"
   ]
  },
  {
   "cell_type": "code",
   "execution_count": null,
   "id": "8775ccf6",
   "metadata": {
    "ExecuteTime": {
     "end_time": "2023-05-10T22:35:39.572179Z",
     "start_time": "2023-05-10T22:35:38.250142Z"
    }
   },
   "outputs": [],
   "source": [
    "temp = np.zeros(size)\n",
    "\n",
    "for i in range(size):\n",
    "    temp[i] = data[\"signal\"][i].std()\n",
    "\n",
    "data[\"std\"] = temp"
   ]
  },
  {
   "cell_type": "code",
   "execution_count": null,
   "id": "428afdfe",
   "metadata": {
    "ExecuteTime": {
     "end_time": "2023-05-10T22:35:39.974941Z",
     "start_time": "2023-05-10T22:35:39.635346Z"
    }
   },
   "outputs": [],
   "source": [
    "temp = np.zeros(size)\n",
    "\n",
    "for i in range(size):\n",
    "    temp[i] = data[\"signal\"][i].sum()\n",
    "\n",
    "data[\"sum\"] = temp"
   ]
  },
  {
   "cell_type": "raw",
   "id": "22caa556",
   "metadata": {
    "ExecuteTime": {
     "end_time": "2023-03-31T01:38:44.734760Z",
     "start_time": "2023-03-31T01:33:39.984377Z"
    }
   },
   "source": [
    "def get_spectrum_stat(data, statistic):\n",
    "    freq = 512\n",
    "    lines = 32\n",
    "    result = np.zeros((data.shape[0], int(freq / lines)))\n",
    "    for j in range(int(freq / lines)):\n",
    "        for i in range(data.shape[0]):\n",
    "            spectrum = sig.spectrogram(\n",
    "                data[i], nperseg=1024, noverlap=0, mode=\"psd\"\n",
    "            )[2][1:513][0 + j * lines : lines + j * lines].sum(axis=0)\n",
    "            if statistic == \"std\":\n",
    "                result[i, j] = spectrum.std()\n",
    "            elif statistic == \"max\":\n",
    "                result[i, j] = spectrum.max()\n",
    "            elif statistic == \"sum\":\n",
    "                result[i, j] = np.log(spectrum.sum())\n",
    "    return result\n",
    "\n",
    "\n",
    "data[\"std\"] = get_spectrum_stat(data[\"signal\"], \"std\")\n",
    "data[\"max\"] = get_spectrum_stat(data[\"signal\"], \"max\")\n",
    "data[\"sum\"] = get_spectrum_stat(data[\"signal\"], \"sum\")"
   ]
  },
  {
   "cell_type": "raw",
   "id": "64e146f5",
   "metadata": {
    "ExecuteTime": {
     "end_time": "2023-05-04T01:18:43.299685Z",
     "start_time": "2023-05-04T01:02:31.273156Z"
    }
   },
   "source": [
    "def bin_ndarray(ndarray, new_shape, operation='sum'):\n",
    "    operation = operation.lower()\n",
    "    if not operation in ['sum', 'mean']:\n",
    "        raise ValueError(\"Operation not supported.\")\n",
    "    if ndarray.ndim != len(new_shape):\n",
    "        raise ValueError(\"Shape mismatch: {} -> {}\".format(ndarray.shape,\n",
    "                                                           new_shape))\n",
    "    compression_pairs = [(d, c//d) for d,c in zip(new_shape,\n",
    "                                                  ndarray.shape)]\n",
    "    flattened = [l for p in compression_pairs for l in p]\n",
    "    ndarray = ndarray.reshape(flattened)\n",
    "    for i in range(len(new_shape)):\n",
    "        op = getattr(ndarray, operation)\n",
    "        ndarray = op(-1*(i+1))\n",
    "    return ndarray\n",
    "\n",
    "for k in range(size):\n",
    "    t, f, Sxx = sig.spectrogram(data[\"signal\"][k], nperseg=1024, noverlap=512, mode=\"psd\", fs=200_000_000)\n",
    "    Sxx = Sxx[::, :-4]\n",
    "    Sxx = Sxx[:-1, ::]\n",
    "    Sxx = bin_ndarray(Sxx, (32, 77), operation='mean')\n",
    "    Sxx = np.log(Sxx)\n",
    "\n",
    "    for j in range(32):\n",
    "        for i in range(77):\n",
    "            data.loc[k, \"value_\"+str(j)+\"_\"+str(i)] = Sxx[i, j]"
   ]
  },
  {
   "cell_type": "code",
   "execution_count": null,
   "id": "9286d770",
   "metadata": {
    "ExecuteTime": {
     "end_time": "2023-05-10T22:41:19.029730Z",
     "start_time": "2023-05-10T22:35:40.038257Z"
    }
   },
   "outputs": [],
   "source": [
    "freq = 512\n",
    "lines = 32\n",
    "\n",
    "temp = np.zeros(size)\n",
    "for j in range(0, int((freq/lines))):\n",
    "    for i in range(size):\n",
    "        temp[i] = sig.spectrogram(data[\"signal\"][i], nperseg=1024, noverlap=0, mode=\"psd\")[2][1:513][0+j*lines:lines+j*lines].sum(axis=0).std()\n",
    "    data[\"std__\"+str(j)] = temp\n",
    "    \n",
    "temp = np.zeros(size)\n",
    "for j in range(0, int((freq/lines))):\n",
    "    for i in range(size):\n",
    "        temp[i] = sig.spectrogram(data[\"signal\"][i], nperseg=1024, noverlap=0, mode=\"psd\")[2][1:513][0+j*lines:lines+j*lines].sum(axis=0).max()\n",
    "    data[\"max__\"+str(j)] = temp\n",
    "    \n",
    "temp = np.zeros(size)\n",
    "for j in range(0, int((freq/lines))):\n",
    "    for i in range(size):\n",
    "        temp[i] = sig.spectrogram(data[\"signal\"][i], nperseg=1024, noverlap=0, mode=\"psd\")[2][1:513][0+j*lines:lines+j*lines].sum(axis=0).sum()\n",
    "    data[\"sum__\"+str(j)] = np.log(temp)"
   ]
  },
  {
   "cell_type": "raw",
   "id": "9dc34147",
   "metadata": {
    "ExecuteTime": {
     "end_time": "2023-05-04T00:12:05.127827Z",
     "start_time": "2023-05-04T00:12:04.953838Z"
    }
   },
   "source": [
    "Pxx, freqs, bins, im = plt.specgram(data[\"signal\"][0], NFFT=1024, Fs=200_000_000, noverlap=512)"
   ]
  },
  {
   "cell_type": "raw",
   "id": "8bc4b9cc",
   "metadata": {
    "ExecuteTime": {
     "end_time": "2023-05-04T00:30:50.297967Z",
     "start_time": "2023-05-04T00:30:50.170695Z"
    }
   },
   "source": [
    "t, f, Sxx = sig.spectrogram(data[\"signal\"][0], nperseg=1024, noverlap=512, mode=\"psd\", fs=200_000_000)\n",
    "Sxx = Sxx[::, :-4]\n",
    "Sxx = Sxx[:-1, ::]\n",
    "Sxx = bin_ndarray(Sxx, (32, 77), operation='mean')\n",
    "plt.pcolormesh(np.log(Sxx), shading='flat', cmap=\"inferno\")"
   ]
  },
  {
   "cell_type": "code",
   "execution_count": null,
   "id": "b3086b5c",
   "metadata": {
    "ExecuteTime": {
     "end_time": "2023-05-10T22:41:19.243510Z",
     "start_time": "2023-05-10T22:41:19.154027Z"
    }
   },
   "outputs": [],
   "source": [
    "data"
   ]
  },
  {
   "cell_type": "markdown",
   "id": "633fb400",
   "metadata": {},
   "source": [
    "# ML"
   ]
  },
  {
   "cell_type": "code",
   "execution_count": null,
   "id": "d564fb27",
   "metadata": {
    "ExecuteTime": {
     "end_time": "2023-05-10T22:41:19.397467Z",
     "start_time": "2023-05-10T22:41:19.352448Z"
    }
   },
   "outputs": [],
   "source": [
    "# Skalovanie\n",
    "\n",
    "features = list(data.columns)\n",
    "features.pop(0)\n",
    "features.pop(0)\n",
    "features\n",
    "\n",
    "mm_scaler = MinMaxScaler()\n",
    "mm_scaler.fit_transform(data[features])\n",
    "data[features] = mm_scaler.transform(data[features])"
   ]
  },
  {
   "cell_type": "code",
   "execution_count": null,
   "id": "38cb3821",
   "metadata": {
    "ExecuteTime": {
     "end_time": "2023-05-10T22:41:19.536477Z",
     "start_time": "2023-05-10T22:41:19.492147Z"
    }
   },
   "outputs": [],
   "source": [
    "data"
   ]
  },
  {
   "cell_type": "code",
   "execution_count": null,
   "id": "42bab4db",
   "metadata": {
    "ExecuteTime": {
     "end_time": "2023-05-10T22:41:19.645787Z",
     "start_time": "2023-05-10T22:41:19.631725Z"
    }
   },
   "outputs": [],
   "source": [
    "features = list(data.columns)\n",
    "features.pop(0)\n",
    "features.pop(0)\n",
    "features\n",
    "\n",
    "X = data[features]\n",
    "Y = data[\"label\"]"
   ]
  },
  {
   "cell_type": "code",
   "execution_count": null,
   "id": "feae0879",
   "metadata": {
    "ExecuteTime": {
     "end_time": "2023-05-10T22:41:19.769549Z",
     "start_time": "2023-05-10T22:41:19.740570Z"
    }
   },
   "outputs": [],
   "source": [
    "mm_scaler = MinMaxScaler()\n",
    "mm_scaler.fit_transform(X)\n",
    "mm_scaler.transform(X)\n",
    "\n",
    "X_train, X_test, Y_train, Y_test = train_test_split(X,\n",
    "                                                    Y,\n",
    "                                                    shuffle=True,\n",
    "                                                    train_size=0.8)\n",
    "\n",
    "R2 = []\n",
    "RMSE = []\n",
    "AMI = []"
   ]
  },
  {
   "cell_type": "code",
   "execution_count": null,
   "id": "ba1363d9",
   "metadata": {
    "ExecuteTime": {
     "end_time": "2023-05-10T22:41:19.971203Z",
     "start_time": "2023-05-10T22:41:19.909573Z"
    }
   },
   "outputs": [],
   "source": [
    "linear_model = LinearRegression()\n",
    "linear_model.fit(X_train, Y_train)\n",
    "\n",
    "predictions = linear_model.predict(X_test)\n",
    "\n",
    "r2 = r2_score(Y_test, predictions)\n",
    "rmse = mean_squared_error(Y_test, predictions, squared=False)\n",
    "ami = adjusted_mutual_info_score(Y_test, np.round(predictions))\n",
    "\n",
    "R2.append(r2)\n",
    "RMSE.append(rmse)\n",
    "AMI.append(ami)\n",
    "\n",
    "print(\"R2= \", r2)\n",
    "print(\"RMSE= \", rmse)\n",
    "print(\"AMI= \", ami)"
   ]
  },
  {
   "cell_type": "code",
   "execution_count": null,
   "id": "fc91bd29",
   "metadata": {
    "ExecuteTime": {
     "end_time": "2023-05-10T22:41:20.155733Z",
     "start_time": "2023-05-10T22:41:20.111384Z"
    },
    "run_control": {
     "marked": false
    }
   },
   "outputs": [],
   "source": [
    "neighbors_model = KNeighborsRegressor(n_neighbors=3, weights=\"distance\", p=1)\n",
    "neighbors_model.fit(X_train, Y_train)\n",
    "\n",
    "predictions = neighbors_model.predict(X_test)\n",
    "\n",
    "r2 = r2_score(Y_test, predictions)\n",
    "rmse = mean_squared_error(Y_test, predictions, squared=False)\n",
    "ami = adjusted_mutual_info_score(Y_test, np.round(predictions))\n",
    "\n",
    "R2.append(r2)\n",
    "RMSE.append(rmse)\n",
    "AMI.append(ami)\n",
    "\n",
    "print(\"R2= \", r2)\n",
    "print(\"RMSE= \", rmse)\n",
    "print(\"AMI= \", ami)"
   ]
  },
  {
   "cell_type": "code",
   "execution_count": null,
   "id": "baf8c092",
   "metadata": {
    "ExecuteTime": {
     "end_time": "2023-05-10T22:41:20.404347Z",
     "start_time": "2023-05-10T22:41:20.345267Z"
    },
    "run_control": {
     "marked": false
    }
   },
   "outputs": [],
   "source": [
    "strom_model = DecisionTreeClassifier(criterion=\"gini\",\n",
    "                                     max_depth=4,\n",
    "                                     min_samples_split=2)\n",
    "strom_model.fit(X_train, Y_train)\n",
    "\n",
    "predictions = strom_model.predict(X_test)\n",
    "\n",
    "r2 = r2_score(Y_test, predictions)\n",
    "rmse = mean_squared_error(Y_test, predictions, squared=False)\n",
    "ami = adjusted_mutual_info_score(Y_test, np.round(predictions))\n",
    "\n",
    "R2.append(r2)\n",
    "RMSE.append(rmse)\n",
    "AMI.append(ami)\n",
    "\n",
    "print(\"R2= \", r2)\n",
    "print(\"RMSE= \", rmse)\n",
    "print(\"AMI= \", ami)"
   ]
  },
  {
   "cell_type": "code",
   "execution_count": null,
   "id": "c6be7a14",
   "metadata": {
    "ExecuteTime": {
     "end_time": "2023-05-10T22:41:21.105883Z",
     "start_time": "2023-05-10T22:41:20.560364Z"
    }
   },
   "outputs": [],
   "source": [
    "les_model = RandomForestClassifier(n_estimators=100,\n",
    "                                   criterion=\"gini\",\n",
    "                                   min_samples_split=2)\n",
    "les_model.fit(X_train, Y_train)\n",
    "\n",
    "predictions = les_model.predict(X_test)\n",
    "\n",
    "r2 = r2_score(Y_test, predictions)\n",
    "rmse = mean_squared_error(Y_test, predictions, squared=False)\n",
    "ami = adjusted_mutual_info_score(Y_test, np.round(predictions))\n",
    "\n",
    "R2.append(r2)\n",
    "RMSE.append(rmse)\n",
    "AMI.append(ami)\n",
    "\n",
    "print(\"R2= \", r2)\n",
    "print(\"RMSE= \", rmse)\n",
    "print(\"AMI= \", ami)"
   ]
  },
  {
   "cell_type": "code",
   "execution_count": null,
   "id": "dbb7aad1",
   "metadata": {
    "ExecuteTime": {
     "end_time": "2023-05-10T22:41:21.496015Z",
     "start_time": "2023-05-10T22:41:21.233726Z"
    },
    "run_control": {
     "marked": false
    }
   },
   "outputs": [],
   "source": [
    "rndtree_model = ExtraTreesClassifier(n_estimators=100,\n",
    "                                     max_depth=None,\n",
    "                                     min_samples_split=2,\n",
    "                                     random_state=0)\n",
    "rndtree_model.fit(X_train, Y_train)\n",
    "\n",
    "predictions = rndtree_model.predict(X_test)\n",
    "\n",
    "r2 = r2_score(Y_test, predictions)\n",
    "rmse = mean_squared_error(Y_test, predictions, squared=False)\n",
    "ami = adjusted_mutual_info_score(Y_test, np.round(predictions))\n",
    "\n",
    "R2.append(r2)\n",
    "RMSE.append(rmse)\n",
    "AMI.append(ami)\n",
    "\n",
    "print(\"R2= \", r2)\n",
    "print(\"RMSE= \", rmse)\n",
    "print(\"AMI= \", ami)"
   ]
  },
  {
   "cell_type": "code",
   "execution_count": null,
   "id": "590fab6c",
   "metadata": {
    "ExecuteTime": {
     "end_time": "2023-05-10T22:41:21.774086Z",
     "start_time": "2023-05-10T22:41:21.621910Z"
    }
   },
   "outputs": [],
   "source": [
    "svc_model = SVC(C=1, degree=2)\n",
    "svc_model.fit(X_train, Y_train)\n",
    "\n",
    "predictions = svc_model.predict(X_test)\n",
    "\n",
    "r2 = r2_score(Y_test, predictions)\n",
    "rmse = mean_squared_error(Y_test, predictions, squared=False)\n",
    "ami = adjusted_mutual_info_score(Y_test, np.round(predictions))\n",
    "\n",
    "R2.append(r2)\n",
    "RMSE.append(rmse)\n",
    "AMI.append(ami)\n",
    "\n",
    "print(\"R2= \", r2)\n",
    "print(\"RMSE= \", rmse)\n",
    "print(\"AMI= \", ami)"
   ]
  },
  {
   "cell_type": "code",
   "execution_count": null,
   "id": "ca25f99f",
   "metadata": {
    "ExecuteTime": {
     "end_time": "2023-05-10T22:41:35.946095Z",
     "start_time": "2023-05-10T22:41:21.916372Z"
    }
   },
   "outputs": [],
   "source": [
    "GBC_model = GradientBoostingClassifier(n_estimators=100,\n",
    "                                       learning_rate=1,\n",
    "                                       max_depth=5,\n",
    "                                       random_state=1)\n",
    "GBC_model.fit(X_train, Y_train)\n",
    "\n",
    "predictions = GBC_model.predict(X_test)\n",
    "\n",
    "r2 = r2_score(Y_test, predictions)\n",
    "rmse = mean_squared_error(Y_test, predictions, squared=False)\n",
    "ami = adjusted_mutual_info_score(Y_test, np.round(predictions))\n",
    "\n",
    "R2.append(r2)\n",
    "RMSE.append(rmse)\n",
    "AMI.append(ami)\n",
    "\n",
    "print(\"R2= \", r2)\n",
    "print(\"RMSE= \", rmse)\n",
    "print(\"AMI= \", ami)"
   ]
  },
  {
   "cell_type": "code",
   "execution_count": null,
   "id": "279d0d9d",
   "metadata": {
    "ExecuteTime": {
     "end_time": "2023-05-10T22:41:45.362756Z",
     "start_time": "2023-05-10T22:41:36.101867Z"
    }
   },
   "outputs": [],
   "source": [
    "# BEST of\n",
    "Best_model = GradientBoostingClassifier(n_estimators=290,\n",
    "                                        learning_rate=1,\n",
    "                                        max_depth=1,\n",
    "                                        random_state=0,\n",
    "                                        validation_fraction=0.1)\n",
    "Best_model.fit(X_train, Y_train)\n",
    "\n",
    "predictions = Best_model.predict(X_test)\n",
    "\n",
    "r2 = r2_score(Y_test, predictions)\n",
    "rmse = mean_squared_error(Y_test, predictions, squared=False)\n",
    "ami = adjusted_mutual_info_score(Y_test, np.round(predictions))\n",
    "\n",
    "R2.append(r2)\n",
    "RMSE.append(rmse)\n",
    "AMI.append(ami)\n",
    "\n",
    "print(\"R2= \", r2)\n",
    "print(\"RMSE= \", rmse)\n",
    "print(\"AMI= \", ami)"
   ]
  },
  {
   "cell_type": "code",
   "execution_count": null,
   "id": "f81ff8f6",
   "metadata": {
    "ExecuteTime": {
     "end_time": "2023-05-10T22:41:45.964679Z",
     "start_time": "2023-05-10T22:41:45.504864Z"
    }
   },
   "outputs": [],
   "source": [
    "labels = [\"Linear\",\n",
    "    \"KNN\", \"Rozhodovací strom\", \"Random forest\", \"Boosted random forest\",\n",
    "    \"SVM\", \"Gradient Boosting\", \"XGBoost\"\n",
    "]\n",
    "\n",
    "x = np.arange(len(labels))\n",
    "width = 0.4\n",
    "\n",
    "R2 = np.round_(R2, decimals=2, out=None)\n",
    "RMSE = np.round_(RMSE, decimals=2, out=None)\n",
    "AMI = np.round_(AMI, decimals=2, out=None)\n",
    "\n",
    "#\n",
    "R2 = np.round_(R2, decimals=2, out=None)\n",
    "RMSE = np.round_(RMSE, decimals=2, out=None)\n",
    "AMI = np.round_(AMI, decimals=2, out=None)\n",
    "#\n",
    "\n",
    "fig, ax = plt.subplots(figsize=(20, 5))\n",
    "rects1 = ax.bar(x - width / 1.5, R2, width / 1.5, label=\"R2\")\n",
    "rects2 = ax.bar(x, RMSE, width / 1.5, label=\"RMSE\")\n",
    "rects3 = ax.bar(x + width / 1.5, AMI, width / 1.5, label=\"AMI\")\n",
    "\n",
    "ax.set_ylabel(\"R2; RMSE; AMI\")\n",
    "# ax.set_title(\"Presnost a chyba\")\n",
    "ax.set_xticks(x)\n",
    "ax.set_xticklabels(labels)\n",
    "ax.legend()\n",
    "ax.set_ylim([0, 1.5])\n",
    "\n",
    "\n",
    "def autolabel(rects):\n",
    "    for rect in rects:\n",
    "        height = rect.get_height()\n",
    "        ax.annotate(\"{}\".format(height),\n",
    "                    xy=(rect.get_x() + rect.get_width() / 2, height),\n",
    "                    xytext=(0, 3),\n",
    "                    textcoords=\"offset points\",\n",
    "                    ha=\"center\",\n",
    "                    va=\"bottom\")\n",
    "\n",
    "\n",
    "autolabel(rects1)\n",
    "autolabel(rects2)\n",
    "autolabel(rects3)\n",
    "\n",
    "fig.tight_layout()\n",
    "\n",
    "plt.show()"
   ]
  },
  {
   "cell_type": "code",
   "execution_count": null,
   "id": "d9ed4a9a",
   "metadata": {
    "ExecuteTime": {
     "end_time": "2023-05-10T22:41:46.151318Z",
     "start_time": "2023-05-10T22:41:46.136889Z"
    }
   },
   "outputs": [],
   "source": [
    "arr1inds = R2.argsort()\n",
    "R2_sorted = R2[arr1inds]\n",
    "RMSE_sorted = RMSE[arr1inds]\n",
    "AMI_sorted = AMI[arr1inds]\n",
    "labels_sorted = [\" \",\n",
    "    \" \",\n",
    "    \" \",\n",
    "    \" \",\n",
    "    \" \",\n",
    "    \" \",\n",
    "    \" \",\n",
    "    \" \",\n",
    "]\n",
    "for i, j in enumerate(arr1inds):\n",
    "    labels_sorted[i] = labels[j]"
   ]
  },
  {
   "cell_type": "code",
   "execution_count": null,
   "id": "a435af3d",
   "metadata": {
    "ExecuteTime": {
     "end_time": "2023-05-10T22:41:46.680680Z",
     "start_time": "2023-05-10T22:41:46.309658Z"
    }
   },
   "outputs": [],
   "source": [
    "x = np.arange(len(labels))\n",
    "width = 0.4\n",
    "\n",
    "fig, ax = plt.subplots(figsize=(20, 5))\n",
    "rects1 = ax.bar(x - width / 1.5, R2_sorted, width / 1.5, label=\"R2\")\n",
    "rects2 = ax.bar(x, RMSE_sorted, width / 1.5, label=\"RMSE\")\n",
    "rects3 = ax.bar(x + width / 1.5, AMI, width / 1.5, label=\"AMI\")\n",
    "\n",
    "ax.set_ylabel(\"R2, RMSE, AMI\")\n",
    "# ax.set_title(\"Presnost a chyba\")\n",
    "ax.set_xticks(x)\n",
    "ax.set_xticklabels(labels_sorted)\n",
    "ax.legend()\n",
    "\n",
    "autolabel(rects1)\n",
    "autolabel(rects2)\n",
    "autolabel(rects3)\n",
    "ax.set_ylim([0, 1.5])\n",
    "fig.tight_layout()\n",
    "\n",
    "plt.show()"
   ]
  },
  {
   "cell_type": "code",
   "execution_count": null,
   "id": "255dc210",
   "metadata": {
    "ExecuteTime": {
     "end_time": "2023-05-04T01:43:31.717705Z",
     "start_time": "2023-05-04T01:43:31.701591Z"
    }
   },
   "outputs": [],
   "source": [
    "np.round(predictions)"
   ]
  },
  {
   "cell_type": "code",
   "execution_count": null,
   "id": "c9de828f",
   "metadata": {
    "ExecuteTime": {
     "end_time": "2023-05-04T01:43:32.107167Z",
     "start_time": "2023-05-04T01:43:32.089235Z"
    }
   },
   "outputs": [],
   "source": [
    "confusion_matrix = metrics.confusion_matrix(Y_test, np.round(predictions))"
   ]
  },
  {
   "cell_type": "code",
   "execution_count": null,
   "id": "da343012",
   "metadata": {
    "ExecuteTime": {
     "end_time": "2023-05-04T01:43:32.464438Z",
     "start_time": "2023-05-04T01:43:32.454518Z"
    }
   },
   "outputs": [],
   "source": [
    "cm_display = metrics.ConfusionMatrixDisplay(confusion_matrix = confusion_matrix, display_labels = [False, True])"
   ]
  },
  {
   "cell_type": "code",
   "execution_count": null,
   "id": "31332d74",
   "metadata": {
    "ExecuteTime": {
     "end_time": "2023-05-04T01:48:53.982471Z",
     "start_time": "2023-05-04T01:48:53.688185Z"
    }
   },
   "outputs": [],
   "source": [
    "fig, axs = plt.subplots(figsize=(7, 7))\n",
    "\n",
    "cm_display.plot(ax=axs)\n",
    "\n",
    "plt.show()"
   ]
  },
  {
   "cell_type": "markdown",
   "id": "24d19ba2",
   "metadata": {},
   "source": [
    "# Predict"
   ]
  },
  {
   "cell_type": "code",
   "execution_count": null,
   "id": "ed6c639c",
   "metadata": {
    "ExecuteTime": {
     "end_time": "2023-03-31T03:23:53.578625Z",
     "start_time": "2023-03-31T03:14:07.021045Z"
    }
   },
   "outputs": [],
   "source": [
    "test_list = glob.glob(\"test/*.txt\")\n",
    "\n",
    "Check = np.zeros((len(test_list), 200000))\n",
    "for i in range(len(test_list)):\n",
    "    Check[i] = np.loadtxt(test_list[i])\n",
    "\n",
    "CHECK = {\n",
    "    \"signal\": list(np.concatenate([Check])),\n",
    "    \"label\": np.concatenate([np.array([0 for _ in range(len(Check))])])\n",
    "}\n",
    "CHECK = pd.DataFrame(CHECK)\n",
    "\n",
    "size_check = len(CHECK)\n",
    "sos = signal.butter(10, 20000, 'hp', fs=200_000_000, output='sos', analog=False)\n",
    "for i in range(size_check):\n",
    "    CHECK[\"signal\"].at[i] = (np.cumsum(signal.sosfilt(sos, CHECK[\"signal\"][i])) / 2000)"
   ]
  },
  {
   "cell_type": "code",
   "execution_count": null,
   "id": "c1bfcac7",
   "metadata": {
    "ExecuteTime": {
     "end_time": "2023-03-31T03:30:07.625809Z",
     "start_time": "2023-03-31T03:23:55.785461Z"
    }
   },
   "outputs": [],
   "source": [
    "size = len(CHECK)\n",
    "\n",
    "temp = np.zeros(size)\n",
    "\n",
    "for i in range(size):\n",
    "    temp[i] = CHECK[\"signal\"][i].max()\n",
    "\n",
    "CHECK[\"max\"] = temp\n",
    "\n",
    "temp = np.zeros(size)\n",
    "\n",
    "for i in range(size):\n",
    "    temp[i] = CHECK[\"signal\"][i].std()\n",
    "\n",
    "CHECK[\"std\"] = temp\n",
    "\n",
    "temp = np.zeros(size)\n",
    "\n",
    "for i in range(size):\n",
    "    temp[i] = CHECK[\"signal\"][i].sum()\n",
    "\n",
    "CHECK[\"sum\"] = temp\n",
    "\n",
    "freq = 512\n",
    "lines = 32\n",
    "\n",
    "temp = np.zeros(size)\n",
    "for j in range(0, int((freq / lines))):\n",
    "    for i in range(size):\n",
    "        temp[i] = sig.spectrogram(\n",
    "            CHECK[\"signal\"][i], nperseg=1024, noverlap=0,\n",
    "            mode=\"psd\")[2][1:513][0 + j * lines:lines +\n",
    "                                  j * lines].sum(axis=0).std()\n",
    "    CHECK[\"std__\" + str(j)] = temp\n",
    "\n",
    "temp = np.zeros(size)\n",
    "for j in range(0, int((freq / lines))):\n",
    "    for i in range(size):\n",
    "        temp[i] = sig.spectrogram(\n",
    "            CHECK[\"signal\"][i], nperseg=1024, noverlap=0,\n",
    "            mode=\"psd\")[2][1:513][0 + j * lines:lines +\n",
    "                                  j * lines].sum(axis=0).max()\n",
    "    CHECK[\"max__\" + str(j)] = temp\n",
    "\n",
    "temp = np.zeros(size)\n",
    "for j in range(0, int((freq / lines))):\n",
    "    for i in range(size):\n",
    "        temp[i] = sig.spectrogram(\n",
    "            CHECK[\"signal\"][i], nperseg=1024, noverlap=0,\n",
    "            mode=\"psd\")[2][1:513][0 + j * lines:lines +\n",
    "                                  j * lines].sum(axis=0).sum()\n",
    "    CHECK[\"sum__\" + str(j)] = np.log(temp)"
   ]
  },
  {
   "cell_type": "code",
   "execution_count": null,
   "id": "865aa0b6",
   "metadata": {
    "ExecuteTime": {
     "end_time": "2023-03-31T03:33:15.696042Z",
     "start_time": "2023-03-31T03:33:15.673619Z"
    }
   },
   "outputs": [],
   "source": [
    "mm_scaler = MinMaxScaler()\n",
    "\n",
    "mm_scaler.fit_transform(CHECK[features])\n",
    "CHECK[features] = mm_scaler.transform(CHECK[features])"
   ]
  },
  {
   "cell_type": "code",
   "execution_count": null,
   "id": "b8176b36",
   "metadata": {
    "ExecuteTime": {
     "end_time": "2023-03-31T03:33:20.150983Z",
     "start_time": "2023-03-31T03:33:18.188363Z"
    }
   },
   "outputs": [],
   "source": [
    "file_object = open('predicted_list.txt', 'w')\n",
    "file_object.close()\n",
    "\n",
    "for line in range(len(CHECK)):\n",
    "    ori_name = test_list[line]\n",
    "    value = neighbors_model.predict(\n",
    "        np.array(CHECK.iloc[line][1:-1]).reshape(1, -1))\n",
    "    value = int(round(value[0]))\n",
    "    if value == 1: name = \"breakdown_pulse_cg\"\n",
    "    elif value == 2: name = \"breakdown_pulse_ic\"\n",
    "    elif value == 3: name = \"ic_activity\"\n",
    "    elif value == 4: name = \"microsecond_pulse\"\n",
    "    elif value == 5: name = \"narrow_bipolar_event\"\n",
    "    elif value == 6: name = \"nothing\"\n",
    "    elif value == 7: name = \"return_stroke\"\n",
    "    else: name = \"ERR\"\n",
    "    file_object = open('predicted_list.txt', 'a')\n",
    "    file_object.write(ori_name.split(\"\\\\\")[1] + f'\\t {name} \\n')\n",
    "    file_object.close()"
   ]
  }
 ],
 "metadata": {
  "kernelspec": {
   "display_name": "Python 3 (ipykernel)",
   "language": "python",
   "name": "python3"
  },
  "language_info": {
   "codemirror_mode": {
    "name": "ipython",
    "version": 3
   },
   "file_extension": ".py",
   "mimetype": "text/x-python",
   "name": "python",
   "nbconvert_exporter": "python",
   "pygments_lexer": "ipython3",
   "version": "3.8.11"
  },
  "varInspector": {
   "cols": {
    "lenName": 16,
    "lenType": 16,
    "lenVar": 40
   },
   "kernels_config": {
    "python": {
     "delete_cmd_postfix": "",
     "delete_cmd_prefix": "del ",
     "library": "var_list.py",
     "varRefreshCmd": "print(var_dic_list())"
    },
    "r": {
     "delete_cmd_postfix": ") ",
     "delete_cmd_prefix": "rm(",
     "library": "var_list.r",
     "varRefreshCmd": "cat(var_dic_list()) "
    }
   },
   "types_to_exclude": [
    "module",
    "function",
    "builtin_function_or_method",
    "instance",
    "_Feature"
   ],
   "window_display": false
  }
 },
 "nbformat": 4,
 "nbformat_minor": 5
}
